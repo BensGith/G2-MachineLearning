{
 "cells": [
  {
   "cell_type": "markdown",
   "metadata": {},
   "source": [
    "# Introduction to Machine Learning 2021 - Final Project"
   ]
  },
  {
   "cell_type": "markdown",
   "metadata": {},
   "source": [
    "## Submission details - Group 2:\n",
    "- Ben Mali - 204148225\n",
    "- Doron Shapira - 316208032 \n",
    "- Ariel Regev - 321776627"
   ]
  },
  {
   "cell_type": "markdown",
   "metadata": {},
   "source": [
    "## Quick Access\n",
    "\n",
    "- <a href=\"#Import-libraries\">Import libraries</a>\n",
    "- <a href=\"#Exploration\">Explortaion</a>\n",
    "- <a href=\"#Pre-Processing\">Pre Processing</a> \n",
    "- <a href=\"#Evaluation\">Evaluation</a>\n",
    "- <a href=\"#Models\">Models</a>\n",
    "- <a href=\"#Test-prediction\">Test prediction</a>\n",
    "- <a href=\"#Additional-attempt\">Additional attempt</a>\n",
    "- <a href=\"#Weighted-accuracy\">Weighted accuracy</a>"
   ]
  },
  {
   "cell_type": "markdown",
   "metadata": {},
   "source": [
    "# Import libraries"
   ]
  },
  {
   "cell_type": "code",
   "execution_count": 1,
   "metadata": {},
   "outputs": [
    {
     "ename": "ModuleNotFoundError",
     "evalue": "No module named 'matplotlib'",
     "output_type": "error",
     "traceback": [
      "\u001b[1;31m---------------------------------------------------------------------------\u001b[0m",
      "\u001b[1;31mModuleNotFoundError\u001b[0m                       Traceback (most recent call last)",
      "\u001b[1;32m<ipython-input-1-e800ada03cdb>\u001b[0m in \u001b[0;36m<module>\u001b[1;34m\u001b[0m\n\u001b[0;32m     16\u001b[0m \u001b[1;31m# Evaluation\u001b[0m\u001b[1;33m\u001b[0m\u001b[1;33m\u001b[0m\u001b[1;33m\u001b[0m\u001b[0m\n\u001b[0;32m     17\u001b[0m \u001b[1;32mfrom\u001b[0m \u001b[0msklearn\u001b[0m \u001b[1;32mimport\u001b[0m \u001b[0mmetrics\u001b[0m\u001b[1;33m\u001b[0m\u001b[1;33m\u001b[0m\u001b[0m\n\u001b[1;32m---> 18\u001b[1;33m \u001b[1;32mfrom\u001b[0m \u001b[0mgraphs\u001b[0m\u001b[1;33m.\u001b[0m\u001b[0mAUC\u001b[0m \u001b[1;32mimport\u001b[0m \u001b[0mAUC\u001b[0m\u001b[1;33m\u001b[0m\u001b[1;33m\u001b[0m\u001b[0m\n\u001b[0m\u001b[0;32m     19\u001b[0m \u001b[1;32mfrom\u001b[0m \u001b[0msklearn\u001b[0m\u001b[1;33m.\u001b[0m\u001b[0mfeature_selection\u001b[0m \u001b[1;32mimport\u001b[0m \u001b[0mRFECV\u001b[0m \u001b[1;31m##########\u001b[0m\u001b[1;33m\u001b[0m\u001b[1;33m\u001b[0m\u001b[0m\n\u001b[0;32m     20\u001b[0m \u001b[1;33m\u001b[0m\u001b[0m\n",
      "\u001b[1;32mC:\\Files\\TAU\\Year 3\\למידת מכונה\\G2-MachineLearning\\graphs\\AUC.py\u001b[0m in \u001b[0;36m<module>\u001b[1;34m\u001b[0m\n\u001b[1;32m----> 1\u001b[1;33m \u001b[1;32mfrom\u001b[0m \u001b[0mmatplotlib\u001b[0m \u001b[1;32mimport\u001b[0m \u001b[0mpyplot\u001b[0m \u001b[1;32mas\u001b[0m \u001b[0mplt\u001b[0m\u001b[1;33m\u001b[0m\u001b[1;33m\u001b[0m\u001b[0m\n\u001b[0m\u001b[0;32m      2\u001b[0m \u001b[1;32mimport\u001b[0m \u001b[0mmatplotlib\u001b[0m\u001b[1;33m.\u001b[0m\u001b[0mpatches\u001b[0m \u001b[1;32mas\u001b[0m \u001b[0mmpatches\u001b[0m\u001b[1;33m\u001b[0m\u001b[1;33m\u001b[0m\u001b[0m\n\u001b[0;32m      3\u001b[0m \u001b[1;33m\u001b[0m\u001b[0m\n\u001b[0;32m      4\u001b[0m \u001b[1;33m\u001b[0m\u001b[0m\n\u001b[0;32m      5\u001b[0m \u001b[1;32mclass\u001b[0m \u001b[0mAUC\u001b[0m\u001b[1;33m:\u001b[0m\u001b[1;33m\u001b[0m\u001b[1;33m\u001b[0m\u001b[0m\n",
      "\u001b[1;31mModuleNotFoundError\u001b[0m: No module named 'matplotlib'"
     ]
    }
   ],
   "source": [
    "import numpy as np\n",
    "import pandas as pd\n",
    "\n",
    "# ML Models\n",
    "from sklearn.tree import DecisionTreeClassifier\n",
    "from sklearn.linear_model import LogisticRegression\n",
    "from sklearn.neighbors import KNeighborsClassifier\n",
    "from sklearn.naive_bayes import GaussianNB\n",
    "from sklearn.svm import SVC, LinearSVC\n",
    "from sklearn.ensemble import RandomForestClassifier , GradientBoostingClassifier\n",
    "\n",
    "###############\n",
    "# from sklearn.preprocessing import Imputer , Normalizer , scale\n",
    "# from sklearn.cross_validation import train_test_split , StratifiedKFold\n",
    "\n",
    "# Evaluation\n",
    "from sklearn import metrics\n",
    "from outliers import remove_outlier_stddev\n",
    "from sklearn.feature_selection import RFECV ##########\n",
    "\n",
    "# Visualisation\n",
    "\n",
    "import matplotlib.pyplot as plt\n",
    "import matplotlib.pylab as pylab\n",
    "import seaborn as sns\n",
    "# from helper.feature_classfier import classify_features"
   ]
  },
  {
   "cell_type": "code",
   "execution_count": null,
   "metadata": {},
   "outputs": [],
   "source": [
    "def get_non_binary_cols(data):\n",
    "    \"\"\"\n",
    "    get the indexes of the non-binary, numeric columns\n",
    "    we will use this function to scale on these columns\n",
    "    :return: list of indexes\n",
    "    \"\"\"\n",
    "    num_cols = list(map(str.strip, data._get_numeric_data().columns))[:-1]\n",
    "    indexes = []\n",
    "\n",
    "    for feature in data[num_cols]:\n",
    "        values = [x != 1 and x != 0 and not pd.isnull(x) for x in data[feature]]\n",
    "        if any(values):\n",
    "            indexes.append(feature)\n",
    "    return indexes\n",
    "\n",
    "\n",
    "def classify_features(data):\n",
    "    \"\"\"\n",
    "    get classifications for our data set\n",
    "    :return: dictionary of class: [list of features that belong to this class]\n",
    "    \"\"\"\n",
    "    classes = {\"categorical\": [],\n",
    "               \"binary\": [],\n",
    "               \"numerical\": []\n",
    "               }\n",
    "    features = set(data.columns)\n",
    "    num_cols = list(map(str.strip, data._get_numeric_data().columns))[:-1]\n",
    "    classes[\"categorical\"] = sorted(features - set(num_cols))\n",
    "    indexes = []\n",
    "    for feature in data[num_cols]:\n",
    "        values = [x != 1 and x != 0 and not pd.isnull(x) for x in data[feature]]\n",
    "        if any(values):\n",
    "            indexes.append(feature)\n",
    "    classes[\"numerical\"] = indexes\n",
    "    classes[\"binary\"] = sorted(set(num_cols) - set(indexes))\n",
    "    return classes\n"
   ]
  },
  {
   "cell_type": "markdown",
   "metadata": {},
   "source": [
    "# Import train data"
   ]
  },
  {
   "cell_type": "code",
   "execution_count": null,
   "metadata": {},
   "outputs": [],
   "source": [
    "train_set = pd.read_csv('train.csv')"
   ]
  },
  {
   "cell_type": "markdown",
   "metadata": {},
   "source": [
    "# Exploration"
   ]
  },
  {
   "cell_type": "markdown",
   "metadata": {},
   "source": [
    "#### We'll explore the data by showing statistics, data types, and correlations among the features.\n",
    "#### In addition, we'll plot some visualization to better understend the data."
   ]
  },
  {
   "cell_type": "code",
   "execution_count": 2,
   "metadata": {},
   "outputs": [
    {
     "ename": "NameError",
     "evalue": "name 'train_set' is not defined",
     "output_type": "error",
     "traceback": [
      "\u001b[1;31m---------------------------------------------------------------------------\u001b[0m",
      "\u001b[1;31mNameError\u001b[0m                                 Traceback (most recent call last)",
      "\u001b[1;32m<ipython-input-2-b3107f260788>\u001b[0m in \u001b[0;36m<module>\u001b[1;34m\u001b[0m\n\u001b[1;32m----> 1\u001b[1;33m \u001b[0mtrain_set\u001b[0m\u001b[1;33m.\u001b[0m\u001b[0mhead\u001b[0m\u001b[1;33m(\u001b[0m\u001b[1;33m)\u001b[0m  \u001b[1;31m#  showing the first 5 rows\u001b[0m\u001b[1;33m\u001b[0m\u001b[1;33m\u001b[0m\u001b[0m\n\u001b[0m",
      "\u001b[1;31mNameError\u001b[0m: name 'train_set' is not defined"
     ]
    }
   ],
   "source": [
    "train_set.head()  #  showing the first 5 rows"
   ]
  },
  {
   "cell_type": "code",
   "execution_count": 3,
   "metadata": {},
   "outputs": [
    {
     "ename": "NameError",
     "evalue": "name 'train_set' is not defined",
     "output_type": "error",
     "traceback": [
      "\u001b[1;31m---------------------------------------------------------------------------\u001b[0m",
      "\u001b[1;31mNameError\u001b[0m                                 Traceback (most recent call last)",
      "\u001b[1;32m<ipython-input-3-e35a6e9492cd>\u001b[0m in \u001b[0;36m<module>\u001b[1;34m\u001b[0m\n\u001b[1;32m----> 1\u001b[1;33m \u001b[0mtrain_set\u001b[0m\u001b[1;33m.\u001b[0m\u001b[0mtail\u001b[0m\u001b[1;33m(\u001b[0m\u001b[1;33m)\u001b[0m  \u001b[1;31m# showing the last 5 rows\u001b[0m\u001b[1;33m\u001b[0m\u001b[1;33m\u001b[0m\u001b[0m\n\u001b[0m",
      "\u001b[1;31mNameError\u001b[0m: name 'train_set' is not defined"
     ]
    }
   ],
   "source": [
    "train_set.tail()  # showing the last 5 rows"
   ]
  },
  {
   "cell_type": "code",
   "execution_count": 49,
   "metadata": {},
   "outputs": [
    {
     "name": "stdout",
     "output_type": "stream",
     "text": [
      "21931 rows and 22 columns\n"
     ]
    }
   ],
   "source": [
    "print('{} rows and {} columns'.format(train_set.shape[0], train_set.shape[1]))"
   ]
  },
  {
   "cell_type": "markdown",
   "metadata": {},
   "source": [
    "#### showing some statistics about the data:"
   ]
  },
  {
   "cell_type": "code",
   "execution_count": 50,
   "metadata": {},
   "outputs": [
    {
     "data": {
      "text/html": [
       "<div>\n",
       "<style scoped>\n",
       "    .dataframe tbody tr th:only-of-type {\n",
       "        vertical-align: middle;\n",
       "    }\n",
       "\n",
       "    .dataframe tbody tr th {\n",
       "        vertical-align: top;\n",
       "    }\n",
       "\n",
       "    .dataframe thead th {\n",
       "        text-align: right;\n",
       "    }\n",
       "</style>\n",
       "<table border=\"1\" class=\"dataframe\">\n",
       "  <thead>\n",
       "    <tr style=\"text-align: right;\">\n",
       "      <th></th>\n",
       "      <th>0</th>\n",
       "      <th>3</th>\n",
       "      <th>4</th>\n",
       "      <th>5</th>\n",
       "      <th>7</th>\n",
       "      <th>8</th>\n",
       "      <th>9</th>\n",
       "      <th>10</th>\n",
       "      <th>11</th>\n",
       "      <th>13</th>\n",
       "      <th>14</th>\n",
       "      <th>15</th>\n",
       "      <th>17</th>\n",
       "      <th>20</th>\n",
       "      <th>label</th>\n",
       "    </tr>\n",
       "  </thead>\n",
       "  <tbody>\n",
       "    <tr>\n",
       "      <th>count</th>\n",
       "      <td>21858.000000</td>\n",
       "      <td>21826.000000</td>\n",
       "      <td>21906.000000</td>\n",
       "      <td>21871.000000</td>\n",
       "      <td>21911.000000</td>\n",
       "      <td>21931.000000</td>\n",
       "      <td>21892.000000</td>\n",
       "      <td>21828.000000</td>\n",
       "      <td>21860.000000</td>\n",
       "      <td>21891.000000</td>\n",
       "      <td>17946.000000</td>\n",
       "      <td>21832.000000</td>\n",
       "      <td>21830.000000</td>\n",
       "      <td>21930.000000</td>\n",
       "      <td>21931.000000</td>\n",
       "    </tr>\n",
       "    <tr>\n",
       "      <th>mean</th>\n",
       "      <td>2.709443</td>\n",
       "      <td>4.204116</td>\n",
       "      <td>1383.256596</td>\n",
       "      <td>6.589936</td>\n",
       "      <td>157.450596</td>\n",
       "      <td>0.542429</td>\n",
       "      <td>256.617674</td>\n",
       "      <td>0.608164</td>\n",
       "      <td>268.845882</td>\n",
       "      <td>2.063816</td>\n",
       "      <td>276.022010</td>\n",
       "      <td>0.017314</td>\n",
       "      <td>3.647972</td>\n",
       "      <td>26.278887</td>\n",
       "      <td>0.178423</td>\n",
       "    </tr>\n",
       "    <tr>\n",
       "      <th>std</th>\n",
       "      <td>2.976380</td>\n",
       "      <td>3.752786</td>\n",
       "      <td>3030.087625</td>\n",
       "      <td>0.921664</td>\n",
       "      <td>83.121658</td>\n",
       "      <td>0.498208</td>\n",
       "      <td>71.635412</td>\n",
       "      <td>1.893069</td>\n",
       "      <td>183.952200</td>\n",
       "      <td>0.784205</td>\n",
       "      <td>274.575423</td>\n",
       "      <td>0.130442</td>\n",
       "      <td>0.746277</td>\n",
       "      <td>20.111219</td>\n",
       "      <td>0.382877</td>\n",
       "    </tr>\n",
       "    <tr>\n",
       "      <th>min</th>\n",
       "      <td>1.000000</td>\n",
       "      <td>-11.138786</td>\n",
       "      <td>-8019.000000</td>\n",
       "      <td>3.776680</td>\n",
       "      <td>10.000000</td>\n",
       "      <td>0.000000</td>\n",
       "      <td>-1.892158</td>\n",
       "      <td>0.000000</td>\n",
       "      <td>0.003898</td>\n",
       "      <td>0.000000</td>\n",
       "      <td>0.000000</td>\n",
       "      <td>0.000000</td>\n",
       "      <td>1.939095</td>\n",
       "      <td>-54.438941</td>\n",
       "      <td>0.000000</td>\n",
       "    </tr>\n",
       "    <tr>\n",
       "      <th>25%</th>\n",
       "      <td>1.000000</td>\n",
       "      <td>1.605409</td>\n",
       "      <td>80.000000</td>\n",
       "      <td>5.901285</td>\n",
       "      <td>80.000000</td>\n",
       "      <td>0.000000</td>\n",
       "      <td>209.751981</td>\n",
       "      <td>0.000000</td>\n",
       "      <td>119.317515</td>\n",
       "      <td>2.000000</td>\n",
       "      <td>108.000000</td>\n",
       "      <td>0.000000</td>\n",
       "      <td>3.036520</td>\n",
       "      <td>12.679984</td>\n",
       "      <td>0.000000</td>\n",
       "    </tr>\n",
       "    <tr>\n",
       "      <th>50%</th>\n",
       "      <td>2.000000</td>\n",
       "      <td>4.190917</td>\n",
       "      <td>470.000000</td>\n",
       "      <td>6.517118</td>\n",
       "      <td>160.000000</td>\n",
       "      <td>1.000000</td>\n",
       "      <td>277.786998</td>\n",
       "      <td>0.000000</td>\n",
       "      <td>242.093814</td>\n",
       "      <td>2.000000</td>\n",
       "      <td>191.000000</td>\n",
       "      <td>0.000000</td>\n",
       "      <td>3.535312</td>\n",
       "      <td>26.477637</td>\n",
       "      <td>0.000000</td>\n",
       "    </tr>\n",
       "    <tr>\n",
       "      <th>75%</th>\n",
       "      <td>3.000000</td>\n",
       "      <td>6.811247</td>\n",
       "      <td>1472.750000</td>\n",
       "      <td>7.246177</td>\n",
       "      <td>210.000000</td>\n",
       "      <td>1.000000</td>\n",
       "      <td>306.584649</td>\n",
       "      <td>0.000000</td>\n",
       "      <td>388.855035</td>\n",
       "      <td>3.000000</td>\n",
       "      <td>342.000000</td>\n",
       "      <td>0.000000</td>\n",
       "      <td>4.150667</td>\n",
       "      <td>39.945262</td>\n",
       "      <td>0.000000</td>\n",
       "    </tr>\n",
       "    <tr>\n",
       "      <th>max</th>\n",
       "      <td>51.000000</td>\n",
       "      <td>17.647593</td>\n",
       "      <td>102127.000000</td>\n",
       "      <td>10.303540</td>\n",
       "      <td>310.000000</td>\n",
       "      <td>1.000000</td>\n",
       "      <td>347.191571</td>\n",
       "      <td>41.000000</td>\n",
       "      <td>1081.031042</td>\n",
       "      <td>3.000000</td>\n",
       "      <td>4918.000000</td>\n",
       "      <td>1.000000</td>\n",
       "      <td>7.141043</td>\n",
       "      <td>102.590418</td>\n",
       "      <td>1.000000</td>\n",
       "    </tr>\n",
       "  </tbody>\n",
       "</table>\n",
       "</div>"
      ],
      "text/plain": [
       "                  0             3              4             5             7  \\\n",
       "count  21858.000000  21826.000000   21906.000000  21871.000000  21911.000000   \n",
       "mean       2.709443      4.204116    1383.256596      6.589936    157.450596   \n",
       "std        2.976380      3.752786    3030.087625      0.921664     83.121658   \n",
       "min        1.000000    -11.138786   -8019.000000      3.776680     10.000000   \n",
       "25%        1.000000      1.605409      80.000000      5.901285     80.000000   \n",
       "50%        2.000000      4.190917     470.000000      6.517118    160.000000   \n",
       "75%        3.000000      6.811247    1472.750000      7.246177    210.000000   \n",
       "max       51.000000     17.647593  102127.000000     10.303540    310.000000   \n",
       "\n",
       "                  8             9            10            11            13  \\\n",
       "count  21931.000000  21892.000000  21828.000000  21860.000000  21891.000000   \n",
       "mean       0.542429    256.617674      0.608164    268.845882      2.063816   \n",
       "std        0.498208     71.635412      1.893069    183.952200      0.784205   \n",
       "min        0.000000     -1.892158      0.000000      0.003898      0.000000   \n",
       "25%        0.000000    209.751981      0.000000    119.317515      2.000000   \n",
       "50%        1.000000    277.786998      0.000000    242.093814      2.000000   \n",
       "75%        1.000000    306.584649      0.000000    388.855035      3.000000   \n",
       "max        1.000000    347.191571     41.000000   1081.031042      3.000000   \n",
       "\n",
       "                 14            15            17            20         label  \n",
       "count  17946.000000  21832.000000  21830.000000  21930.000000  21931.000000  \n",
       "mean     276.022010      0.017314      3.647972     26.278887      0.178423  \n",
       "std      274.575423      0.130442      0.746277     20.111219      0.382877  \n",
       "min        0.000000      0.000000      1.939095    -54.438941      0.000000  \n",
       "25%      108.000000      0.000000      3.036520     12.679984      0.000000  \n",
       "50%      191.000000      0.000000      3.535312     26.477637      0.000000  \n",
       "75%      342.000000      0.000000      4.150667     39.945262      0.000000  \n",
       "max     4918.000000      1.000000      7.141043    102.590418      1.000000  "
      ]
     },
     "execution_count": 50,
     "metadata": {},
     "output_type": "execute_result"
    }
   ],
   "source": [
    "train_set.describe()"
   ]
  },
  {
   "cell_type": "markdown",
   "metadata": {},
   "source": [
    "#### counting how many nulls we have in the data:"
   ]
  },
  {
   "cell_type": "code",
   "execution_count": 51,
   "metadata": {},
   "outputs": [
    {
     "data": {
      "text/plain": [
       "0           73\n",
       "1           89\n",
       "2           56\n",
       "3          105\n",
       "4           25\n",
       "5           60\n",
       "6          145\n",
       "7           20\n",
       "8            0\n",
       "9           39\n",
       "10         103\n",
       "11          71\n",
       "12          13\n",
       "13          40\n",
       "14        3985\n",
       "15          99\n",
       "16          10\n",
       "17         101\n",
       "18          84\n",
       "19       17681\n",
       "20           1\n",
       "label        0\n",
       "dtype: int64"
      ]
     },
     "execution_count": 51,
     "metadata": {},
     "output_type": "execute_result"
    }
   ],
   "source": [
    "train_set.isnull().sum()"
   ]
  },
  {
   "cell_type": "markdown",
   "metadata": {},
   "source": [
    "#### showing the percentage of null values in each column:"
   ]
  },
  {
   "cell_type": "code",
   "execution_count": 52,
   "metadata": {},
   "outputs": [
    {
     "name": "stdout",
     "output_type": "stream",
     "text": [
      "The % of null values in each column is:\n",
      " 0         0.332862\n",
      "1         0.405818\n",
      "2         0.255346\n",
      "3         0.478774\n",
      "4         0.113994\n",
      "5         0.273585\n",
      "6         0.661165\n",
      "7         0.091195\n",
      "8         0.000000\n",
      "9         0.177830\n",
      "10        0.469655\n",
      "11        0.323743\n",
      "12        0.059277\n",
      "13        0.182390\n",
      "14       18.170626\n",
      "15        0.451416\n",
      "16        0.045598\n",
      "17        0.460535\n",
      "18        0.383019\n",
      "19       80.621039\n",
      "20        0.004560\n",
      "label     0.000000\n",
      "dtype: float64\n"
     ]
    }
   ],
   "source": [
    "headers_train = [str(i) for i in range(21)]\n",
    "print(\"The % of null values in each column is:\\n\", str((1-train_set.count()/len(train_set))*100))"
   ]
  },
  {
   "cell_type": "markdown",
   "metadata": {},
   "source": [
    "we can see that column 19 has more than 80% of null values, and due to the fact that these values are categorical ones, is it harder to fill them."
   ]
  },
  {
   "cell_type": "markdown",
   "metadata": {},
   "source": [
    " "
   ]
  },
  {
   "cell_type": "markdown",
   "metadata": {},
   "source": [
    "### Exploring the numeric features:"
   ]
  },
  {
   "cell_type": "code",
   "execution_count": 53,
   "metadata": {},
   "outputs": [
    {
     "data": {
      "text/html": [
       "<div>\n",
       "<style scoped>\n",
       "    .dataframe tbody tr th:only-of-type {\n",
       "        vertical-align: middle;\n",
       "    }\n",
       "\n",
       "    .dataframe tbody tr th {\n",
       "        vertical-align: top;\n",
       "    }\n",
       "\n",
       "    .dataframe thead th {\n",
       "        text-align: right;\n",
       "    }\n",
       "</style>\n",
       "<table border=\"1\" class=\"dataframe\">\n",
       "  <thead>\n",
       "    <tr style=\"text-align: right;\">\n",
       "      <th></th>\n",
       "      <th>0</th>\n",
       "      <th>3</th>\n",
       "      <th>4</th>\n",
       "      <th>5</th>\n",
       "      <th>7</th>\n",
       "      <th>8</th>\n",
       "      <th>9</th>\n",
       "      <th>10</th>\n",
       "      <th>11</th>\n",
       "      <th>13</th>\n",
       "      <th>14</th>\n",
       "      <th>15</th>\n",
       "      <th>17</th>\n",
       "      <th>20</th>\n",
       "      <th>label</th>\n",
       "    </tr>\n",
       "  </thead>\n",
       "  <tbody>\n",
       "    <tr>\n",
       "      <th>0</th>\n",
       "      <td>1.0</td>\n",
       "      <td>0.828866</td>\n",
       "      <td>216.0</td>\n",
       "      <td>4.846091</td>\n",
       "      <td>50.0</td>\n",
       "      <td>0</td>\n",
       "      <td>161.714226</td>\n",
       "      <td>0.0</td>\n",
       "      <td>85.964376</td>\n",
       "      <td>2.0</td>\n",
       "      <td>414.0</td>\n",
       "      <td>0.0</td>\n",
       "      <td>2.191401</td>\n",
       "      <td>15.921017</td>\n",
       "      <td>1</td>\n",
       "    </tr>\n",
       "    <tr>\n",
       "      <th>1</th>\n",
       "      <td>8.0</td>\n",
       "      <td>8.981168</td>\n",
       "      <td>46.0</td>\n",
       "      <td>7.324911</td>\n",
       "      <td>270.0</td>\n",
       "      <td>0</td>\n",
       "      <td>328.559851</td>\n",
       "      <td>0.0</td>\n",
       "      <td>294.552881</td>\n",
       "      <td>3.0</td>\n",
       "      <td>63.0</td>\n",
       "      <td>0.0</td>\n",
       "      <td>3.811778</td>\n",
       "      <td>47.567140</td>\n",
       "      <td>0</td>\n",
       "    </tr>\n",
       "    <tr>\n",
       "      <th>2</th>\n",
       "      <td>1.0</td>\n",
       "      <td>1.458061</td>\n",
       "      <td>3304.0</td>\n",
       "      <td>7.548887</td>\n",
       "      <td>200.0</td>\n",
       "      <td>1</td>\n",
       "      <td>298.775554</td>\n",
       "      <td>0.0</td>\n",
       "      <td>317.615920</td>\n",
       "      <td>1.0</td>\n",
       "      <td>218.0</td>\n",
       "      <td>0.0</td>\n",
       "      <td>4.284457</td>\n",
       "      <td>10.522228</td>\n",
       "      <td>0</td>\n",
       "    </tr>\n",
       "    <tr>\n",
       "      <th>3</th>\n",
       "      <td>1.0</td>\n",
       "      <td>2.753682</td>\n",
       "      <td>212.0</td>\n",
       "      <td>8.200746</td>\n",
       "      <td>170.0</td>\n",
       "      <td>0</td>\n",
       "      <td>285.342907</td>\n",
       "      <td>0.0</td>\n",
       "      <td>181.773337</td>\n",
       "      <td>2.0</td>\n",
       "      <td>NaN</td>\n",
       "      <td>0.0</td>\n",
       "      <td>4.680751</td>\n",
       "      <td>21.185050</td>\n",
       "      <td>0</td>\n",
       "    </tr>\n",
       "    <tr>\n",
       "      <th>4</th>\n",
       "      <td>1.0</td>\n",
       "      <td>4.496872</td>\n",
       "      <td>1050.0</td>\n",
       "      <td>5.071094</td>\n",
       "      <td>260.0</td>\n",
       "      <td>1</td>\n",
       "      <td>328.464688</td>\n",
       "      <td>0.0</td>\n",
       "      <td>454.058222</td>\n",
       "      <td>3.0</td>\n",
       "      <td>293.0</td>\n",
       "      <td>0.0</td>\n",
       "      <td>2.740114</td>\n",
       "      <td>47.491164</td>\n",
       "      <td>0</td>\n",
       "    </tr>\n",
       "  </tbody>\n",
       "</table>\n",
       "</div>"
      ],
      "text/plain": [
       "     0         3       4         5      7  8           9   10          11  \\\n",
       "0  1.0  0.828866   216.0  4.846091   50.0  0  161.714226  0.0   85.964376   \n",
       "1  8.0  8.981168    46.0  7.324911  270.0  0  328.559851  0.0  294.552881   \n",
       "2  1.0  1.458061  3304.0  7.548887  200.0  1  298.775554  0.0  317.615920   \n",
       "3  1.0  2.753682   212.0  8.200746  170.0  0  285.342907  0.0  181.773337   \n",
       "4  1.0  4.496872  1050.0  5.071094  260.0  1  328.464688  0.0  454.058222   \n",
       "\n",
       "    13     14   15        17         20  label  \n",
       "0  2.0  414.0  0.0  2.191401  15.921017      1  \n",
       "1  3.0   63.0  0.0  3.811778  47.567140      0  \n",
       "2  1.0  218.0  0.0  4.284457  10.522228      0  \n",
       "3  2.0    NaN  0.0  4.680751  21.185050      0  \n",
       "4  3.0  293.0  0.0  2.740114  47.491164      0  "
      ]
     },
     "execution_count": 53,
     "metadata": {},
     "output_type": "execute_result"
    }
   ],
   "source": [
    "train_set_numeric = train_set.select_dtypes(include = ['float64', 'int64']).copy()  ###########\n",
    "train_set_numeric.head()"
   ]
  },
  {
   "cell_type": "markdown",
   "metadata": {},
   "source": [
    "#### showing some statistics about the numeric features:"
   ]
  },
  {
   "cell_type": "code",
   "execution_count": 54,
   "metadata": {},
   "outputs": [
    {
     "data": {
      "text/html": [
       "<div>\n",
       "<style scoped>\n",
       "    .dataframe tbody tr th:only-of-type {\n",
       "        vertical-align: middle;\n",
       "    }\n",
       "\n",
       "    .dataframe tbody tr th {\n",
       "        vertical-align: top;\n",
       "    }\n",
       "\n",
       "    .dataframe thead th {\n",
       "        text-align: right;\n",
       "    }\n",
       "</style>\n",
       "<table border=\"1\" class=\"dataframe\">\n",
       "  <thead>\n",
       "    <tr style=\"text-align: right;\">\n",
       "      <th></th>\n",
       "      <th>0</th>\n",
       "      <th>3</th>\n",
       "      <th>4</th>\n",
       "      <th>5</th>\n",
       "      <th>7</th>\n",
       "      <th>8</th>\n",
       "      <th>9</th>\n",
       "      <th>10</th>\n",
       "      <th>11</th>\n",
       "      <th>13</th>\n",
       "      <th>14</th>\n",
       "      <th>15</th>\n",
       "      <th>17</th>\n",
       "      <th>20</th>\n",
       "      <th>label</th>\n",
       "    </tr>\n",
       "  </thead>\n",
       "  <tbody>\n",
       "    <tr>\n",
       "      <th>count</th>\n",
       "      <td>21858.000000</td>\n",
       "      <td>21826.000000</td>\n",
       "      <td>21906.000000</td>\n",
       "      <td>21871.000000</td>\n",
       "      <td>21911.000000</td>\n",
       "      <td>21931.000000</td>\n",
       "      <td>21892.000000</td>\n",
       "      <td>21828.000000</td>\n",
       "      <td>21860.000000</td>\n",
       "      <td>21891.000000</td>\n",
       "      <td>17946.000000</td>\n",
       "      <td>21832.000000</td>\n",
       "      <td>21830.000000</td>\n",
       "      <td>21930.000000</td>\n",
       "      <td>21931.000000</td>\n",
       "    </tr>\n",
       "    <tr>\n",
       "      <th>mean</th>\n",
       "      <td>2.709443</td>\n",
       "      <td>4.204116</td>\n",
       "      <td>1383.256596</td>\n",
       "      <td>6.589936</td>\n",
       "      <td>157.450596</td>\n",
       "      <td>0.542429</td>\n",
       "      <td>256.617674</td>\n",
       "      <td>0.608164</td>\n",
       "      <td>268.845882</td>\n",
       "      <td>2.063816</td>\n",
       "      <td>276.022010</td>\n",
       "      <td>0.017314</td>\n",
       "      <td>3.647972</td>\n",
       "      <td>26.278887</td>\n",
       "      <td>0.178423</td>\n",
       "    </tr>\n",
       "    <tr>\n",
       "      <th>std</th>\n",
       "      <td>2.976380</td>\n",
       "      <td>3.752786</td>\n",
       "      <td>3030.087625</td>\n",
       "      <td>0.921664</td>\n",
       "      <td>83.121658</td>\n",
       "      <td>0.498208</td>\n",
       "      <td>71.635412</td>\n",
       "      <td>1.893069</td>\n",
       "      <td>183.952200</td>\n",
       "      <td>0.784205</td>\n",
       "      <td>274.575423</td>\n",
       "      <td>0.130442</td>\n",
       "      <td>0.746277</td>\n",
       "      <td>20.111219</td>\n",
       "      <td>0.382877</td>\n",
       "    </tr>\n",
       "    <tr>\n",
       "      <th>min</th>\n",
       "      <td>1.000000</td>\n",
       "      <td>-11.138786</td>\n",
       "      <td>-8019.000000</td>\n",
       "      <td>3.776680</td>\n",
       "      <td>10.000000</td>\n",
       "      <td>0.000000</td>\n",
       "      <td>-1.892158</td>\n",
       "      <td>0.000000</td>\n",
       "      <td>0.003898</td>\n",
       "      <td>0.000000</td>\n",
       "      <td>0.000000</td>\n",
       "      <td>0.000000</td>\n",
       "      <td>1.939095</td>\n",
       "      <td>-54.438941</td>\n",
       "      <td>0.000000</td>\n",
       "    </tr>\n",
       "    <tr>\n",
       "      <th>25%</th>\n",
       "      <td>1.000000</td>\n",
       "      <td>1.605409</td>\n",
       "      <td>80.000000</td>\n",
       "      <td>5.901285</td>\n",
       "      <td>80.000000</td>\n",
       "      <td>0.000000</td>\n",
       "      <td>209.751981</td>\n",
       "      <td>0.000000</td>\n",
       "      <td>119.317515</td>\n",
       "      <td>2.000000</td>\n",
       "      <td>108.000000</td>\n",
       "      <td>0.000000</td>\n",
       "      <td>3.036520</td>\n",
       "      <td>12.679984</td>\n",
       "      <td>0.000000</td>\n",
       "    </tr>\n",
       "    <tr>\n",
       "      <th>50%</th>\n",
       "      <td>2.000000</td>\n",
       "      <td>4.190917</td>\n",
       "      <td>470.000000</td>\n",
       "      <td>6.517118</td>\n",
       "      <td>160.000000</td>\n",
       "      <td>1.000000</td>\n",
       "      <td>277.786998</td>\n",
       "      <td>0.000000</td>\n",
       "      <td>242.093814</td>\n",
       "      <td>2.000000</td>\n",
       "      <td>191.000000</td>\n",
       "      <td>0.000000</td>\n",
       "      <td>3.535312</td>\n",
       "      <td>26.477637</td>\n",
       "      <td>0.000000</td>\n",
       "    </tr>\n",
       "    <tr>\n",
       "      <th>75%</th>\n",
       "      <td>3.000000</td>\n",
       "      <td>6.811247</td>\n",
       "      <td>1472.750000</td>\n",
       "      <td>7.246177</td>\n",
       "      <td>210.000000</td>\n",
       "      <td>1.000000</td>\n",
       "      <td>306.584649</td>\n",
       "      <td>0.000000</td>\n",
       "      <td>388.855035</td>\n",
       "      <td>3.000000</td>\n",
       "      <td>342.000000</td>\n",
       "      <td>0.000000</td>\n",
       "      <td>4.150667</td>\n",
       "      <td>39.945262</td>\n",
       "      <td>0.000000</td>\n",
       "    </tr>\n",
       "    <tr>\n",
       "      <th>max</th>\n",
       "      <td>51.000000</td>\n",
       "      <td>17.647593</td>\n",
       "      <td>102127.000000</td>\n",
       "      <td>10.303540</td>\n",
       "      <td>310.000000</td>\n",
       "      <td>1.000000</td>\n",
       "      <td>347.191571</td>\n",
       "      <td>41.000000</td>\n",
       "      <td>1081.031042</td>\n",
       "      <td>3.000000</td>\n",
       "      <td>4918.000000</td>\n",
       "      <td>1.000000</td>\n",
       "      <td>7.141043</td>\n",
       "      <td>102.590418</td>\n",
       "      <td>1.000000</td>\n",
       "    </tr>\n",
       "  </tbody>\n",
       "</table>\n",
       "</div>"
      ],
      "text/plain": [
       "                  0             3              4             5             7  \\\n",
       "count  21858.000000  21826.000000   21906.000000  21871.000000  21911.000000   \n",
       "mean       2.709443      4.204116    1383.256596      6.589936    157.450596   \n",
       "std        2.976380      3.752786    3030.087625      0.921664     83.121658   \n",
       "min        1.000000    -11.138786   -8019.000000      3.776680     10.000000   \n",
       "25%        1.000000      1.605409      80.000000      5.901285     80.000000   \n",
       "50%        2.000000      4.190917     470.000000      6.517118    160.000000   \n",
       "75%        3.000000      6.811247    1472.750000      7.246177    210.000000   \n",
       "max       51.000000     17.647593  102127.000000     10.303540    310.000000   \n",
       "\n",
       "                  8             9            10            11            13  \\\n",
       "count  21931.000000  21892.000000  21828.000000  21860.000000  21891.000000   \n",
       "mean       0.542429    256.617674      0.608164    268.845882      2.063816   \n",
       "std        0.498208     71.635412      1.893069    183.952200      0.784205   \n",
       "min        0.000000     -1.892158      0.000000      0.003898      0.000000   \n",
       "25%        0.000000    209.751981      0.000000    119.317515      2.000000   \n",
       "50%        1.000000    277.786998      0.000000    242.093814      2.000000   \n",
       "75%        1.000000    306.584649      0.000000    388.855035      3.000000   \n",
       "max        1.000000    347.191571     41.000000   1081.031042      3.000000   \n",
       "\n",
       "                 14            15            17            20         label  \n",
       "count  17946.000000  21832.000000  21830.000000  21930.000000  21931.000000  \n",
       "mean     276.022010      0.017314      3.647972     26.278887      0.178423  \n",
       "std      274.575423      0.130442      0.746277     20.111219      0.382877  \n",
       "min        0.000000      0.000000      1.939095    -54.438941      0.000000  \n",
       "25%      108.000000      0.000000      3.036520     12.679984      0.000000  \n",
       "50%      191.000000      0.000000      3.535312     26.477637      0.000000  \n",
       "75%      342.000000      0.000000      4.150667     39.945262      0.000000  \n",
       "max     4918.000000      1.000000      7.141043    102.590418      1.000000  "
      ]
     },
     "execution_count": 54,
     "metadata": {},
     "output_type": "execute_result"
    }
   ],
   "source": [
    "train_set_numeric.describe()"
   ]
  },
  {
   "cell_type": "markdown",
   "metadata": {},
   "source": [
    "#### plotting the numeric features' distribution:"
   ]
  },
  {
   "cell_type": "markdown",
   "metadata": {},
   "source": [
    "add plots from tableau"
   ]
  },
  {
   "cell_type": "markdown",
   "metadata": {},
   "source": [
    "#### plotting the boxplots for each numeric feature:"
   ]
  },
  {
   "cell_type": "code",
   "execution_count": 55,
   "metadata": {
    "scrolled": true
   },
   "outputs": [
    {
     "data": {
      "image/png": "[encoded data removed]",
      "text/plain": [
       "<Figure size 1152x720 with 12 Axes>"
      ]
     },
     "metadata": {
      "needs_background": "light"
     },
     "output_type": "display_data"
    }
   ],
   "source": [
    "def box_plot(df):\n",
    "    feature_classes = classify_features(df)\n",
    "    numeric_features = feature_classes.get(\"numerical\")\n",
    "    f, axes = plt.subplots(3,4, figsize=(16,10))\n",
    "    f.tight_layout()\n",
    "    axes = axes.flatten()\n",
    "    for i, feature in enumerate(numeric_features):\n",
    "        sns.boxplot(data=df[feature], orient='v', width=0.45, ax=axes[i]).set_title('Boxplot for feature {}'.format(feature))\n",
    "        \n",
    "box_plot(train_set)\n"
   ]
  },
  {
   "cell_type": "markdown",
   "metadata": {},
   "source": [
    "#### plotting the correlation matrix for the features:"
   ]
  },
  {
   "cell_type": "code",
   "execution_count": 56,
   "metadata": {},
   "outputs": [
    {
     "data": {
      "image/png": "[encoded data removed]",
      "text/plain": [
       "<Figure size 1080x1080 with 2 Axes>"
      ]
     },
     "metadata": {
      "needs_background": "light"
     },
     "output_type": "display_data"
    },
    {
     "name": "stderr",
     "output_type": "stream",
     "text": [
      "c:\\files\\tau\\year 3\\למידת מכונה\\g2-machinelearning\\venv\\lib\\site-packages\\ipykernel_launcher.py:12: DeprecationWarning: `np.bool` is a deprecated alias for the builtin `bool`. To silence this warning, use `bool` by itself. Doing this will not modify any behavior and is safe. If you specifically wanted the numpy scalar type, use `np.bool_` here.\n",
      "Deprecated in NumPy 1.20; for more details and guidance: https://numpy.org/devdocs/release/1.20.0-notes.html#deprecations\n",
      "  if sys.path[0] == '':\n"
     ]
    }
   ],
   "source": [
    "def cor_map(df):\n",
    "    fig, ax =plt.subplots(figsize=(15, 15))\n",
    "    corr_mat = df.corr()\n",
    "    sns.heatmap(corr_mat, annot=True, cmap=\"Blues\")\n",
    "    bottom, top = plt.ylim()                                              \n",
    "    bottom += 0.5                                                      \n",
    "    top -= 0.5                                                      \n",
    "    plt.ylim(bottom, top)                                                 \n",
    "    ax.set_title('Corrletion Matrix')                                       \n",
    "    plt.show()\n",
    "    # Select upper triangle of correlation matrix\n",
    "    upper = corr_mat.where(np.triu(np.ones(corr_mat.shape), k=1).astype(np.bool))\n",
    "    # Find index of feature columns with correlation greater than 0.85\n",
    "    to_drop = [column for column in upper.columns if any(upper[column] > 0.95)]\n",
    "    if to_drop != []:\n",
    "        print (\"Correlated Features:\", to_drop)\n",
    "cor_map(train_set_numeric)"
   ]
  },
  {
   "cell_type": "markdown",
   "metadata": {},
   "source": [
    "### Exploring the categorical and binary features:"
   ]
  },
  {
   "cell_type": "code",
   "execution_count": 56,
   "metadata": {},
   "outputs": [],
   "source": []
  },
  {
   "cell_type": "code",
   "execution_count": 56,
   "metadata": {},
   "outputs": [],
   "source": []
  },
  {
   "cell_type": "code",
   "execution_count": 56,
   "metadata": {},
   "outputs": [],
   "source": []
  },
  {
   "cell_type": "code",
   "execution_count": 56,
   "metadata": {},
   "outputs": [],
   "source": []
  },
  {
   "cell_type": "code",
   "execution_count": 57,
   "metadata": {},
   "outputs": [
    {
     "data": {
      "image/png": "[encoded data removed]",
      "text/plain": [
       "<Figure size 432x288 with 1 Axes>"
      ]
     },
     "metadata": {
      "needs_background": "light"
     },
     "output_type": "display_data"
    },
    {
     "data": {
      "image/png": "[encoded data removed]",
      "text/plain": [
       "<Figure size 432x288 with 1 Axes>"
      ]
     },
     "metadata": {
      "needs_background": "light"
     },
     "output_type": "display_data"
    },
    {
     "ename": "TypeError",
     "evalue": "the dtypes of parameters x (<U32) and width (float64) are incompatible",
     "output_type": "error",
     "traceback": [
      "\u001b[1;31m---------------------------------------------------------------------------\u001b[0m",
      "\u001b[1;31mUFuncTypeError\u001b[0m                            Traceback (most recent call last)",
      "\u001b[1;32mc:\\files\\tau\\year 3\\למידת מכונה\\g2-machinelearning\\venv\\lib\\site-packages\\matplotlib\\axes\\_axes.py\u001b[0m in \u001b[0;36mbar\u001b[1;34m(self, x, height, width, bottom, align, **kwargs)\u001b[0m\n\u001b[0;32m   2334\u001b[0m                 \u001b[1;32mtry\u001b[0m\u001b[1;33m:\u001b[0m\u001b[1;33m\u001b[0m\u001b[1;33m\u001b[0m\u001b[0m\n\u001b[1;32m-> 2335\u001b[1;33m                     \u001b[0mleft\u001b[0m \u001b[1;33m=\u001b[0m \u001b[0mx\u001b[0m \u001b[1;33m-\u001b[0m \u001b[0mwidth\u001b[0m \u001b[1;33m/\u001b[0m \u001b[1;36m2\u001b[0m\u001b[1;33m\u001b[0m\u001b[1;33m\u001b[0m\u001b[0m\n\u001b[0m\u001b[0;32m   2336\u001b[0m                 \u001b[1;32mexcept\u001b[0m \u001b[0mTypeError\u001b[0m \u001b[1;32mas\u001b[0m \u001b[0me\u001b[0m\u001b[1;33m:\u001b[0m\u001b[1;33m\u001b[0m\u001b[1;33m\u001b[0m\u001b[0m\n",
      "\u001b[1;31mUFuncTypeError\u001b[0m: ufunc 'subtract' did not contain a loop with signature matching types (dtype('<U32'), dtype('<U32')) -> dtype('<U32')",
      "\nThe above exception was the direct cause of the following exception:\n",
      "\u001b[1;31mTypeError\u001b[0m                                 Traceback (most recent call last)",
      "\u001b[1;32m<ipython-input-57-d76ebf94cd2b>\u001b[0m in \u001b[0;36m<module>\u001b[1;34m\u001b[0m\n\u001b[0;32m     29\u001b[0m \u001b[0mhistogram\u001b[0m \u001b[1;33m=\u001b[0m \u001b[0msorted\u001b[0m\u001b[1;33m(\u001b[0m\u001b[1;33m[\u001b[0m\u001b[1;33m(\u001b[0m\u001b[0mkey\u001b[0m\u001b[1;33m,\u001b[0m \u001b[0mvalue\u001b[0m\u001b[1;33m)\u001b[0m \u001b[1;32mfor\u001b[0m \u001b[0mkey\u001b[0m\u001b[1;33m,\u001b[0m \u001b[0mvalue\u001b[0m \u001b[1;32min\u001b[0m \u001b[0mcol2_dict\u001b[0m\u001b[1;33m.\u001b[0m\u001b[0mitems\u001b[0m\u001b[1;33m(\u001b[0m\u001b[1;33m)\u001b[0m \u001b[1;33m]\u001b[0m\u001b[1;33m,\u001b[0m \u001b[0mkey\u001b[0m\u001b[1;33m=\u001b[0m\u001b[1;32mlambda\u001b[0m \u001b[0mz\u001b[0m\u001b[1;33m:\u001b[0m \u001b[0mz\u001b[0m\u001b[1;33m[\u001b[0m\u001b[1;36m1\u001b[0m\u001b[1;33m]\u001b[0m\u001b[1;33m,\u001b[0m \u001b[0mreverse\u001b[0m\u001b[1;33m=\u001b[0m\u001b[1;32mTrue\u001b[0m\u001b[1;33m)\u001b[0m\u001b[1;33m\u001b[0m\u001b[1;33m\u001b[0m\u001b[0m\n\u001b[0;32m     30\u001b[0m \u001b[0mx\u001b[0m\u001b[1;33m,\u001b[0m \u001b[0my\u001b[0m \u001b[1;33m=\u001b[0m \u001b[0mzip\u001b[0m\u001b[1;33m(\u001b[0m\u001b[1;33m*\u001b[0m\u001b[0mhistogram\u001b[0m\u001b[1;33m[\u001b[0m\u001b[1;33m:\u001b[0m\u001b[1;36m10\u001b[0m\u001b[1;33m]\u001b[0m\u001b[1;33m)\u001b[0m\u001b[1;33m\u001b[0m\u001b[1;33m\u001b[0m\u001b[0m\n\u001b[1;32m---> 31\u001b[1;33m \u001b[0mplt\u001b[0m\u001b[1;33m.\u001b[0m\u001b[0mbar\u001b[0m\u001b[1;33m(\u001b[0m\u001b[0mx\u001b[0m\u001b[1;33m,\u001b[0m \u001b[0my\u001b[0m\u001b[1;33m)\u001b[0m\u001b[1;33m\u001b[0m\u001b[1;33m\u001b[0m\u001b[0m\n\u001b[0m\u001b[0;32m     32\u001b[0m \u001b[1;31m# plt.hist(col_data[2], bins=10)\u001b[0m\u001b[1;33m\u001b[0m\u001b[1;33m\u001b[0m\u001b[1;33m\u001b[0m\u001b[0m\n\u001b[0;32m     33\u001b[0m \u001b[0mplt\u001b[0m\u001b[1;33m.\u001b[0m\u001b[0mtitle\u001b[0m\u001b[1;33m(\u001b[0m\u001b[1;34m\"Col2 Histogram\"\u001b[0m\u001b[1;33m)\u001b[0m\u001b[1;33m\u001b[0m\u001b[1;33m\u001b[0m\u001b[0m\n",
      "\u001b[1;32mc:\\files\\tau\\year 3\\למידת מכונה\\g2-machinelearning\\venv\\lib\\site-packages\\matplotlib\\pyplot.py\u001b[0m in \u001b[0;36mbar\u001b[1;34m(x, height, width, bottom, align, data, **kwargs)\u001b[0m\n\u001b[0;32m   2651\u001b[0m     return gca().bar(\n\u001b[0;32m   2652\u001b[0m         \u001b[0mx\u001b[0m\u001b[1;33m,\u001b[0m \u001b[0mheight\u001b[0m\u001b[1;33m,\u001b[0m \u001b[0mwidth\u001b[0m\u001b[1;33m=\u001b[0m\u001b[0mwidth\u001b[0m\u001b[1;33m,\u001b[0m \u001b[0mbottom\u001b[0m\u001b[1;33m=\u001b[0m\u001b[0mbottom\u001b[0m\u001b[1;33m,\u001b[0m \u001b[0malign\u001b[0m\u001b[1;33m=\u001b[0m\u001b[0malign\u001b[0m\u001b[1;33m,\u001b[0m\u001b[1;33m\u001b[0m\u001b[1;33m\u001b[0m\u001b[0m\n\u001b[1;32m-> 2653\u001b[1;33m         **({\"data\": data} if data is not None else {}), **kwargs)\n\u001b[0m\u001b[0;32m   2654\u001b[0m \u001b[1;33m\u001b[0m\u001b[0m\n\u001b[0;32m   2655\u001b[0m \u001b[1;33m\u001b[0m\u001b[0m\n",
      "\u001b[1;32mc:\\files\\tau\\year 3\\למידת מכונה\\g2-machinelearning\\venv\\lib\\site-packages\\matplotlib\\__init__.py\u001b[0m in \u001b[0;36minner\u001b[1;34m(ax, data, *args, **kwargs)\u001b[0m\n\u001b[0;32m   1359\u001b[0m     \u001b[1;32mdef\u001b[0m \u001b[0minner\u001b[0m\u001b[1;33m(\u001b[0m\u001b[0max\u001b[0m\u001b[1;33m,\u001b[0m \u001b[1;33m*\u001b[0m\u001b[0margs\u001b[0m\u001b[1;33m,\u001b[0m \u001b[0mdata\u001b[0m\u001b[1;33m=\u001b[0m\u001b[1;32mNone\u001b[0m\u001b[1;33m,\u001b[0m \u001b[1;33m**\u001b[0m\u001b[0mkwargs\u001b[0m\u001b[1;33m)\u001b[0m\u001b[1;33m:\u001b[0m\u001b[1;33m\u001b[0m\u001b[1;33m\u001b[0m\u001b[0m\n\u001b[0;32m   1360\u001b[0m         \u001b[1;32mif\u001b[0m \u001b[0mdata\u001b[0m \u001b[1;32mis\u001b[0m \u001b[1;32mNone\u001b[0m\u001b[1;33m:\u001b[0m\u001b[1;33m\u001b[0m\u001b[1;33m\u001b[0m\u001b[0m\n\u001b[1;32m-> 1361\u001b[1;33m             \u001b[1;32mreturn\u001b[0m \u001b[0mfunc\u001b[0m\u001b[1;33m(\u001b[0m\u001b[0max\u001b[0m\u001b[1;33m,\u001b[0m \u001b[1;33m*\u001b[0m\u001b[0mmap\u001b[0m\u001b[1;33m(\u001b[0m\u001b[0msanitize_sequence\u001b[0m\u001b[1;33m,\u001b[0m \u001b[0margs\u001b[0m\u001b[1;33m)\u001b[0m\u001b[1;33m,\u001b[0m \u001b[1;33m**\u001b[0m\u001b[0mkwargs\u001b[0m\u001b[1;33m)\u001b[0m\u001b[1;33m\u001b[0m\u001b[1;33m\u001b[0m\u001b[0m\n\u001b[0m\u001b[0;32m   1362\u001b[0m \u001b[1;33m\u001b[0m\u001b[0m\n\u001b[0;32m   1363\u001b[0m         \u001b[0mbound\u001b[0m \u001b[1;33m=\u001b[0m \u001b[0mnew_sig\u001b[0m\u001b[1;33m.\u001b[0m\u001b[0mbind\u001b[0m\u001b[1;33m(\u001b[0m\u001b[0max\u001b[0m\u001b[1;33m,\u001b[0m \u001b[1;33m*\u001b[0m\u001b[0margs\u001b[0m\u001b[1;33m,\u001b[0m \u001b[1;33m**\u001b[0m\u001b[0mkwargs\u001b[0m\u001b[1;33m)\u001b[0m\u001b[1;33m\u001b[0m\u001b[1;33m\u001b[0m\u001b[0m\n",
      "\u001b[1;32mc:\\files\\tau\\year 3\\למידת מכונה\\g2-machinelearning\\venv\\lib\\site-packages\\matplotlib\\axes\\_axes.py\u001b[0m in \u001b[0;36mbar\u001b[1;34m(self, x, height, width, bottom, align, **kwargs)\u001b[0m\n\u001b[0;32m   2337\u001b[0m                     raise TypeError(f'the dtypes of parameters x ({x.dtype}) '\n\u001b[0;32m   2338\u001b[0m                                     \u001b[1;34mf'and width ({width.dtype}) '\u001b[0m\u001b[1;33m\u001b[0m\u001b[1;33m\u001b[0m\u001b[0m\n\u001b[1;32m-> 2339\u001b[1;33m                                     f'are incompatible') from e\n\u001b[0m\u001b[0;32m   2340\u001b[0m                 \u001b[0mbottom\u001b[0m \u001b[1;33m=\u001b[0m \u001b[0my\u001b[0m\u001b[1;33m\u001b[0m\u001b[1;33m\u001b[0m\u001b[0m\n\u001b[0;32m   2341\u001b[0m             \u001b[1;32melif\u001b[0m \u001b[0morientation\u001b[0m \u001b[1;33m==\u001b[0m \u001b[1;34m'horizontal'\u001b[0m\u001b[1;33m:\u001b[0m\u001b[1;33m\u001b[0m\u001b[1;33m\u001b[0m\u001b[0m\n",
      "\u001b[1;31mTypeError\u001b[0m: the dtypes of parameters x (<U32) and width (float64) are incompatible"
     ]
    },
    {
     "data": {
      "image/png": "[encoded data removed]",
      "text/plain": [
       "<Figure size 432x288 with 1 Axes>"
      ]
     },
     "metadata": {
      "needs_background": "light"
     },
     "output_type": "display_data"
    }
   ],
   "source": [
    "col_data = []\n",
    "for col in range(train_set.shape[1] - 1):  # iterate over columns but label col\n",
    "    col_data.append(train_set[str(col)].tolist())\n",
    "\n",
    "#### col 0 ########\n",
    "plt.hist(col_data[0])\n",
    "plt.xticks([i for i in range(1,52, 5)])\n",
    "plt.title(\"Col0 Histogram\")\n",
    "plt.show()\n",
    "\n",
    "#### col 1 ########\n",
    "plt.hist(col_data[1])\n",
    "plt.title(\"Col1 Histogram\")\n",
    "plt.show()\n",
    "\n",
    "#### col 2 ########\n",
    "col2_dict = {}\n",
    "for value in col_data[2]:\n",
    "    if value in col2_dict:\n",
    "        if not isinstance(value, float):\n",
    "            col2_dict[value[:-1]] += 1\n",
    "        else:\n",
    "            col2_dict[value] += 1\n",
    "    else:\n",
    "        if not isinstance(value, float):\n",
    "            col2_dict[value[:-1]] = 1\n",
    "        else:\n",
    "            col2_dict[value] = 1\n",
    "histogram = sorted([(key, value) for key, value in col2_dict.items() ], key=lambda z: z[1], reverse=True)\n",
    "x, y = zip(*histogram[:10])\n",
    "plt.bar(x, y)\n",
    "# plt.hist(col_data[2], bins=10)\n",
    "plt.title(\"Col2 Histogram\")\n",
    "plt.show()\n",
    "\n",
    "\n",
    "#### col 3 ########\n",
    "plt.hist(col_data[3], bins=50)\n",
    "plt.title(\"Col3 Histogram\")\n",
    "plt.show()\n",
    "\n",
    "#### col 4 ########\n",
    "plt.hist(col_data[4], bins=30)\n",
    "plt.title(\"Col4 Histogram\")\n",
    "plt.show()\n",
    "\n",
    "\n",
    "#### col 5 ########\n",
    "plt.hist(col_data[5], bins=50)\n",
    "plt.title(\"Col5 Histogram\")\n",
    "plt.show()\n",
    "\n",
    "\n",
    "# #### col 6 ########\n",
    "plt.hist(col_data[6])\n",
    "plt.title(\"Col6 Histogram\")\n",
    "plt.show()\n",
    "\n",
    "\n",
    "# #### col 7 ########\n",
    "plt.hist(col_data[7], bins=100)\n",
    "plt.title(\"Col7 Histogram\")\n",
    "plt.show()\n",
    "\n",
    "\n",
    "# #### col 8 ########\n",
    "\n",
    "col8_dict = {}\n",
    "for value in col_data[8]:\n",
    "    if value in col8_dict:\n",
    "        col8_dict[value] += 1\n",
    "    else:\n",
    "        col8_dict[value] = 1\n",
    "\n",
    "plt.bar(range(len(col8_dict)), list(col8_dict.values()), align='center')\n",
    "plt.xticks(range(len(col8_dict)), list(col8_dict.keys()))\n",
    "\n",
    "plt.title(\"Col8 Histogram\")\n",
    "plt.show()\n",
    "\n",
    "# #### col 9 ########\n",
    "plt.hist(col_data[9], bins=100)\n",
    "plt.title(\"Col9 Histogram\")\n",
    "plt.show()\n",
    "\n",
    "\n",
    "# #### col 10 ########\n",
    "plt.hist(col_data[10],bins=50)\n",
    "plt.title(\"Col10 Histogram\")\n",
    "plt.show()\n",
    "\n",
    "\n",
    "# #### col 11 ########\n",
    "plt.hist(col_data[11], bins=300)\n",
    "plt.title(\"Col11 Histogram\")\n",
    "plt.show()\n",
    "\n",
    "\n",
    "# #### col 12 ########\n",
    "\n",
    "col12_dict = {}\n",
    "for value in col_data[12]:\n",
    "    if value in col12_dict:\n",
    "        col12_dict[value] += 1\n",
    "    else:\n",
    "        col12_dict[value] = 1\n",
    "\n",
    "plt.bar(range(len(col12_dict)), list(col12_dict.values()), align='center')\n",
    "plt.xticks(range(len(col12_dict)), list(col12_dict.keys()))\n",
    "plt.title(\"Col12 Histogram\")\n",
    "plt.show()\n",
    "\n",
    "# #### col 13 ########\n",
    "\n",
    "labels, counts = np.unique(col_data[13], return_counts=True)\n",
    "plt.bar(labels, counts, align='center')\n",
    "plt.gca().set_xticks(labels)\n",
    "plt.title(\"Col13 Histogram\")\n",
    "plt.show()\n",
    "\n",
    "# #### col 14 ########\n",
    "plt.hist(col_data[14], bins=300)\n",
    "plt.title(\"Col14 Histogram\")\n",
    "plt.show()\n",
    "\n",
    "# #### col 15 ########\n",
    "labels, counts = np.unique(col_data[15], return_counts=True)\n",
    "plt.bar(labels, counts, align='center')\n",
    "plt.gca().set_xticks(labels)\n",
    "plt.title(\"Col15 Histogram\")\n",
    "plt.show()\n",
    "\n",
    "# #### col 16 ########\n",
    "labels, counts = np.unique(col_data[16], return_counts=True)\n",
    "plt.bar(labels, counts, align='center')\n",
    "plt.gca().set_xticks(labels)\n",
    "plt.title(\"Col16 Histogram\")\n",
    "plt.show()\n",
    "\n",
    "\n",
    "# #### col 17 ########\n",
    "plt.hist(col_data[17], bins=100)\n",
    "plt.title(\"Col17 Histogram\")\n",
    "plt.show()\n",
    "\n",
    "\n",
    "# #### col 18 ########\n",
    "labels, counts = np.unique(list(map(lambda x: int(x[1:]) if type(x) == str else -1, col_data[18])), return_counts=True)\n",
    "plt.bar(labels, counts, align='center')\n",
    "plt.gca().set_xticks(labels)\n",
    "plt.title(\"Col18 Histogram\")\n",
    "plt.show()\n",
    "\n",
    "# #### col 19 ########\n",
    "labels, counts = np.unique(col_data[19], return_counts=True)\n",
    "plt.bar(labels, counts, align='center')\n",
    "plt.gca().set_xticks(labels)\n",
    "plt.title(\"Col19 Histogram\")\n",
    "plt.show()\n",
    "\n",
    "\n",
    "#### col 20 ########\n",
    "plt.hist(col_data[20], bins=100)\n",
    "plt.title(\"Col20 Histogram\")\n",
    "plt.show()"
   ]
  },
  {
   "cell_type": "code",
   "execution_count": null,
   "metadata": {},
   "outputs": [],
   "source": [
    "x = [i for i in range(1, train_set.shape[1])]\n",
    "\n",
    "print(train_set.describe())\n",
    "correlation_matrix = train_set.corr()\n",
    "cov_matrix = train_set.cov()\n",
    "y = np.array([1, 1, 2, 2])\n",
    "pred = np.array([0.1, 0.4, 0.35, 0.8])\n",
    "fpr, tpr, thresholds = metrics.roc_curve(y, pred, pos_label=2)\n",
    "metrics.auc(fpr, tpr)"
   ]
  }
 ],
 "metadata": {
  "kernelspec": {
   "display_name": "Python 3",
   "language": "python",
   "name": "python3"
  },
  "language_info": {
   "codemirror_mode": {
    "name": "ipython",
    "version": 3
   },
   "file_extension": ".py",
   "mimetype": "text/x-python",
   "name": "python",
   "nbconvert_exporter": "python",
   "pygments_lexer": "ipython3",
   "version": "3.7.4"
  }
 },
 "nbformat": 4,
 "nbformat_minor": 4
}
